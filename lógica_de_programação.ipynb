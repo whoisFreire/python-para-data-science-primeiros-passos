{
  "nbformat": 4,
  "nbformat_minor": 0,
  "metadata": {
    "colab": {
      "name": "lógica de programação.ipynb",
      "provenance": [],
      "collapsed_sections": [
        "CyNfI7TzBKkG",
        "3Q5Ud7zmCxn3",
        "0lCVxpHZKzue"
      ],
      "authorship_tag": "ABX9TyPMPUONkGllyBsEHbrQtvKk",
      "include_colab_link": true
    },
    "kernelspec": {
      "name": "python3",
      "display_name": "Python 3"
    },
    "language_info": {
      "name": "python"
    }
  },
  "cells": [
    {
      "cell_type": "markdown",
      "metadata": {
        "id": "view-in-github",
        "colab_type": "text"
      },
      "source": [
        "<a href=\"https://colab.research.google.com/github/whoisFreire/python-para-data-science-primeiros-passos/blob/main/l%C3%B3gica_de_programa%C3%A7%C3%A3o.ipynb\" target=\"_parent\"><img src=\"https://colab.research.google.com/assets/colab-badge.svg\" alt=\"Open In Colab\"/></a>"
      ]
    },
    {
      "cell_type": "markdown",
      "metadata": {
        "id": "CyNfI7TzBKkG"
      },
      "source": [
        "# Lógica de Programação"
      ]
    },
    {
      "cell_type": "code",
      "metadata": {
        "id": "yiDmCSn2CF4I"
      },
      "source": [
        "nome = 'Leonardo'"
      ],
      "execution_count": 1,
      "outputs": []
    },
    {
      "cell_type": "code",
      "metadata": {
        "id": "xwyWlOvsCH_T"
      },
      "source": [
        "idade = 19"
      ],
      "execution_count": 2,
      "outputs": []
    },
    {
      "cell_type": "code",
      "metadata": {
        "colab": {
          "base_uri": "https://localhost:8080/"
        },
        "id": "BkaowCnxCJRQ",
        "outputId": "9b3741b6-067b-4671-9a29-440857d822e0"
      },
      "source": [
        "print(f'O nome é {nome} e sua idade é {idade} anos')"
      ],
      "execution_count": 3,
      "outputs": [
        {
          "output_type": "stream",
          "text": [
            "O nome é Leonardo e sua idade é 19 anos\n"
          ],
          "name": "stdout"
        }
      ]
    },
    {
      "cell_type": "markdown",
      "metadata": {
        "id": "3Q5Ud7zmCxn3"
      },
      "source": [
        "# Criando minha primeira Função"
      ]
    },
    {
      "cell_type": "code",
      "metadata": {
        "id": "n4OIjMPAC0fU"
      },
      "source": [
        "def saudacao():\n",
        "  nome = input('QUal o seu nome? ')\n",
        "  print(f'olá {nome}')"
      ],
      "execution_count": 4,
      "outputs": []
    },
    {
      "cell_type": "code",
      "metadata": {
        "colab": {
          "base_uri": "https://localhost:8080/"
        },
        "id": "IZzi34DbHqQz",
        "outputId": "098049ac-279b-4444-d2ca-498fc2db1c67"
      },
      "source": [
        "saudacao()"
      ],
      "execution_count": 6,
      "outputs": [
        {
          "output_type": "stream",
          "text": [
            "QUal o seu nome?Leonardo\n",
            "olá Leonardo\n"
          ],
          "name": "stdout"
        }
      ]
    },
    {
      "cell_type": "markdown",
      "metadata": {
        "id": "0lCVxpHZKzue"
      },
      "source": [
        "# Função com parâmetro"
      ]
    },
    {
      "cell_type": "code",
      "metadata": {
        "id": "J_AV6qfOK2yO"
      },
      "source": [
        "def saudacao_com_parametro(nome):\n",
        "  print(f'Olá {nome}')"
      ],
      "execution_count": 7,
      "outputs": []
    },
    {
      "cell_type": "code",
      "metadata": {
        "id": "TFkOA0u5LKxj"
      },
      "source": [
        "nome = 'Leonardo'"
      ],
      "execution_count": 8,
      "outputs": []
    },
    {
      "cell_type": "code",
      "metadata": {
        "colab": {
          "base_uri": "https://localhost:8080/"
        },
        "id": "EMx4lkxNLMG8",
        "outputId": "ff633f4b-66ad-4695-f4b3-e1dfae010dd8"
      },
      "source": [
        "saudacao_com_parametro(nome)"
      ],
      "execution_count": 9,
      "outputs": [
        {
          "output_type": "stream",
          "text": [
            "Olá Leonardo\n"
          ],
          "name": "stdout"
        }
      ]
    },
    {
      "cell_type": "markdown",
      "metadata": {
        "id": "pJWXb084LfSl"
      },
      "source": [
        "# Condicionais"
      ]
    },
    {
      "cell_type": "code",
      "metadata": {
        "colab": {
          "base_uri": "https://localhost:8080/"
        },
        "id": "EfNroyKXLhh9",
        "outputId": "26817134-caa7-4e56-fe98-2469cc6e20ba"
      },
      "source": [
        "idade = 19\n",
        "\n",
        "def verifica_se_pode_dirigir(idade):\n",
        "  if idade > 18:\n",
        "    print('Tem permissão para dirigir')\n",
        "  else:\n",
        "    print('Não tem permissão para dirigir')\n",
        "\n",
        "verifica_se_pode_dirigir(idade)"
      ],
      "execution_count": 12,
      "outputs": [
        {
          "output_type": "stream",
          "text": [
            "Tem permissão para dirigir\n"
          ],
          "name": "stdout"
        }
      ]
    },
    {
      "cell_type": "markdown",
      "metadata": {
        "id": "irIdrfCuNh9S"
      },
      "source": [
        "# Conversão de tipos"
      ]
    },
    {
      "cell_type": "code",
      "metadata": {
        "colab": {
          "base_uri": "https://localhost:8080/"
        },
        "id": "gxAvQeUsNkRp",
        "outputId": "af9e1795-1ef7-4703-b118-e4326fe31376"
      },
      "source": [
        "def verifica_se_pode_dirigir_sem_parametro():\n",
        "  idade = int(input('Qual sua idade? '))\n",
        "  \n",
        "  if idade > 18:\n",
        "    print('Tem permissão para dirigir')\n",
        "  else:\n",
        "    print('Não tem permissão para dirigir')\n",
        "\n",
        "verifica_se_pode_dirigir_sem_parametro()"
      ],
      "execution_count": 14,
      "outputs": [
        {
          "output_type": "stream",
          "text": [
            "Qual sua idade? 19\n",
            "Tem permissão para dirigir\n"
          ],
          "name": "stdout"
        }
      ]
    },
    {
      "cell_type": "markdown",
      "metadata": {
        "id": "tHkqRafBQr4F"
      },
      "source": [
        "#Criando uma lista"
      ]
    },
    {
      "cell_type": "code",
      "metadata": {
        "colab": {
          "base_uri": "https://localhost:8080/"
        },
        "id": "YxC91MggQt4T",
        "outputId": "9fed4c73-e2a8-444a-df96-b3b1db2d3199"
      },
      "source": [
        "idades = [10, 15, 18, 20]\n",
        "#          0   1   2   3\n",
        "#          0  -3  -2  -1\n",
        "type(idades)"
      ],
      "execution_count": 19,
      "outputs": [
        {
          "output_type": "execute_result",
          "data": {
            "text/plain": [
              "list"
            ]
          },
          "metadata": {
            "tags": []
          },
          "execution_count": 19
        }
      ]
    },
    {
      "cell_type": "code",
      "metadata": {
        "colab": {
          "base_uri": "https://localhost:8080/"
        },
        "id": "TR6qfobtRVmk",
        "outputId": "e1aa6ed1-9889-4b79-c239-bfbcc9a8de04"
      },
      "source": [
        "idades[0:3]"
      ],
      "execution_count": 16,
      "outputs": [
        {
          "output_type": "execute_result",
          "data": {
            "text/plain": [
              "[10, 15, 18]"
            ]
          },
          "metadata": {
            "tags": []
          },
          "execution_count": 16
        }
      ]
    },
    {
      "cell_type": "code",
      "metadata": {
        "colab": {
          "base_uri": "https://localhost:8080/"
        },
        "id": "r43rGMODRAko",
        "outputId": "7f2e864b-d80d-41cc-e84c-094b3b1ac6df"
      },
      "source": [
        "idades[1:]"
      ],
      "execution_count": 17,
      "outputs": [
        {
          "output_type": "execute_result",
          "data": {
            "text/plain": [
              "[15, 18, 20]"
            ]
          },
          "metadata": {
            "tags": []
          },
          "execution_count": 17
        }
      ]
    },
    {
      "cell_type": "code",
      "metadata": {
        "colab": {
          "base_uri": "https://localhost:8080/"
        },
        "id": "s5Czpy83Rhkm",
        "outputId": "0eefde71-24a1-4111-d2fc-ba416e82d7ee"
      },
      "source": [
        "idades[-1]"
      ],
      "execution_count": 21,
      "outputs": [
        {
          "output_type": "execute_result",
          "data": {
            "text/plain": [
              "20"
            ]
          },
          "metadata": {
            "tags": []
          },
          "execution_count": 21
        }
      ]
    },
    {
      "cell_type": "markdown",
      "metadata": {
        "id": "6aMzu6BgR_Nf"
      },
      "source": [
        "# Laços e Loops"
      ]
    },
    {
      "cell_type": "code",
      "metadata": {
        "id": "dqKIWjGLSA74"
      },
      "source": [
        "idades = [10, 15, 18, 20]"
      ],
      "execution_count": 22,
      "outputs": []
    },
    {
      "cell_type": "code",
      "metadata": {
        "colab": {
          "base_uri": "https://localhost:8080/"
        },
        "id": "FTT5Al41ST38",
        "outputId": "0fde6dd3-8940-42e9-a4c0-5c3b361dd091"
      },
      "source": [
        "def verifica_se_pode_dirigir(idade):\n",
        "  if idade >= 18:\n",
        "    print(f'{idade} anos de idade, tem permissão para dirigir')\n",
        "  else:\n",
        "    print(f'{idade} anos de idade, não tem permissão para dirigir')\n",
        "\n",
        "for idade in idades:\n",
        "  verifica_se_pode_dirigir(idade)"
      ],
      "execution_count": 24,
      "outputs": [
        {
          "output_type": "stream",
          "text": [
            "10 anos de idade, não tem permissão para dirigir\n",
            "15 anos de idade, não tem permissão para dirigir\n",
            "18 anos de idade, tem permissão para dirigir\n",
            "20 anos de idade, tem permissão para dirigir\n"
          ],
          "name": "stdout"
        }
      ]
    },
    {
      "cell_type": "code",
      "metadata": {
        "colab": {
          "base_uri": "https://localhost:8080/"
        },
        "id": "Yupys8B0Sc0h",
        "outputId": "63e367a1-d295-480a-9ce3-2c0d32df0cb2"
      },
      "source": [
        "def verifica_idade_com_for(idades):\n",
        "  for idade in idades:\n",
        "    if idade >= 18:\n",
        "      print(f'{idade} anos de idade, tem permissão para dirigir')\n",
        "    else:\n",
        "      print(f'{idade} anos de idade, não tem permissão para dirigir')\n",
        "\n",
        "verifica_idade_com_for(idades)"
      ],
      "execution_count": 25,
      "outputs": [
        {
          "output_type": "stream",
          "text": [
            "10 anos de idade, não tem permissão para dirigir\n",
            "15 anos de idade, não tem permissão para dirigir\n",
            "18 anos de idade, tem permissão para dirigir\n",
            "20 anos de idade, tem permissão para dirigir\n"
          ],
          "name": "stdout"
        }
      ]
    },
    {
      "cell_type": "markdown",
      "metadata": {
        "id": "lpjfrkzcUrek"
      },
      "source": [
        "# Booleano"
      ]
    },
    {
      "cell_type": "code",
      "metadata": {
        "id": "3JKm5kyaUsoo"
      },
      "source": [
        "permissoes = []\n",
        "idades = [15, 12, 18, 40]\n",
        "\n",
        "def verifica(idades, permissoes):\n",
        "  for idade in idades:\n",
        "    if idade >= 18:\n",
        "      permissoes.append(True)\n",
        "    else:\n",
        "      permissoes.append(False)\n",
        "    \n",
        "verifica(idades, permissoes)"
      ],
      "execution_count": 26,
      "outputs": []
    },
    {
      "cell_type": "code",
      "metadata": {
        "colab": {
          "base_uri": "https://localhost:8080/"
        },
        "id": "flEvhbbCVHVf",
        "outputId": "70475801-9ce1-470c-d0a3-53c59ec84d8d"
      },
      "source": [
        "permissoes"
      ],
      "execution_count": 27,
      "outputs": [
        {
          "output_type": "execute_result",
          "data": {
            "text/plain": [
              "[False, False, True, True]"
            ]
          },
          "metadata": {
            "tags": []
          },
          "execution_count": 27
        }
      ]
    },
    {
      "cell_type": "code",
      "metadata": {
        "colab": {
          "base_uri": "https://localhost:8080/"
        },
        "id": "J2qP7I1vVI-H",
        "outputId": "47a498e9-0f74-421b-8d45-cfaa5406d557"
      },
      "source": [
        "for permissao in permissoes:\n",
        "  if permissao:\n",
        "    print('Tem permissão para dirigir')\n",
        "  else:\n",
        "    print('Não tem permissão para dirigir')"
      ],
      "execution_count": 30,
      "outputs": [
        {
          "output_type": "stream",
          "text": [
            "Não tem permissão para dirigir\n",
            "Não tem permissão para dirigir\n",
            "Tem permissão para dirigir\n",
            "Tem permissão para dirigir\n"
          ],
          "name": "stdout"
        }
      ]
    },
    {
      "cell_type": "markdown",
      "metadata": {
        "id": "t8kGJ0IXdUit"
      },
      "source": [
        "# Tipos em uma Lista"
      ]
    },
    {
      "cell_type": "code",
      "metadata": {
        "colab": {
          "base_uri": "https://localhost:8080/"
        },
        "id": "-VDDEjSKdWVo",
        "outputId": "765a2ae8-e710-41d6-ed08-70bd938e1c61"
      },
      "source": [
        "lista = ['Leonardo', 19, True, '19']\n",
        "\n",
        "for elemento in lista:\n",
        "  print(f'O elemento {elemento} é do tipo: {type(elemento)}')"
      ],
      "execution_count": 31,
      "outputs": [
        {
          "output_type": "stream",
          "text": [
            "O elemento Leonardo é do tipo: <class 'str'>\n",
            "O elemento 19 é do tipo: <class 'int'>\n",
            "O elemento True é do tipo: <class 'bool'>\n",
            "O elemento 19 é do tipo: <class 'str'>\n"
          ],
          "name": "stdout"
        }
      ]
    },
    {
      "cell_type": "markdown",
      "metadata": {
        "id": "N0fhP2D5d2Uz"
      },
      "source": [
        "# Imports"
      ]
    },
    {
      "cell_type": "code",
      "metadata": {
        "id": "4-M_s-Bid34l"
      },
      "source": [
        "from random import randrange"
      ],
      "execution_count": 32,
      "outputs": []
    },
    {
      "cell_type": "code",
      "metadata": {
        "colab": {
          "base_uri": "https://localhost:8080/"
        },
        "id": "hBrYDWBweTVO",
        "outputId": "014b9af8-f017-46a9-eff7-211f4a759455"
      },
      "source": [
        "randrange(0, 11)"
      ],
      "execution_count": 36,
      "outputs": [
        {
          "output_type": "execute_result",
          "data": {
            "text/plain": [
              "7"
            ]
          },
          "metadata": {
            "tags": []
          },
          "execution_count": 36
        }
      ]
    },
    {
      "cell_type": "code",
      "metadata": {
        "colab": {
          "base_uri": "https://localhost:8080/"
        },
        "id": "Ff3UaymUeo6T",
        "outputId": "2c569bcc-b2f2-4202-af0d-8f706d8f2496"
      },
      "source": [
        "notas_matematica = []\n",
        "for notas in range(8):\n",
        "  notas_matematica.append(randrange(0, 11))\n",
        "\n",
        "notas_matematica"
      ],
      "execution_count": 37,
      "outputs": [
        {
          "output_type": "execute_result",
          "data": {
            "text/plain": [
              "[8, 0, 10, 4, 7, 8, 7, 5]"
            ]
          },
          "metadata": {
            "tags": []
          },
          "execution_count": 37
        }
      ]
    },
    {
      "cell_type": "markdown",
      "metadata": {
        "id": "f7PcMFHekt6t"
      },
      "source": [
        "# Matplotlib"
      ]
    },
    {
      "cell_type": "code",
      "metadata": {
        "id": "9UBOoUO5kv52"
      },
      "source": [
        "import matplotlib.pyplot as plt"
      ],
      "execution_count": 38,
      "outputs": []
    },
    {
      "cell_type": "code",
      "metadata": {
        "colab": {
          "base_uri": "https://localhost:8080/",
          "height": 295
        },
        "id": "N9DGfw7Pk4zz",
        "outputId": "e0647136-dac9-4595-f8bc-603c205d16cd"
      },
      "source": [
        "x = list(range(1, 9))\n",
        "y = notas_matematica\n",
        "plt.plot(x, y, marker='o')\n",
        "plt.title('Notas de matemática')\n",
        "plt.xlabel('Provas')\n",
        "plt.ylabel('Notas')\n",
        "plt.show()"
      ],
      "execution_count": 43,
      "outputs": [
        {
          "output_type": "display_data",
          "data": {
            "image/png": "[encoded data removed]",
            "text/plain": [
              "<Figure size 432x288 with 1 Axes>"
            ]
          },
          "metadata": {
            "tags": [],
            "needs_background": "light"
          }
        }
      ]
    }
  ]
}